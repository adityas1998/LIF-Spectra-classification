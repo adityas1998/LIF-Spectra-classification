{
  "nbformat": 4,
  "nbformat_minor": 0,
  "metadata": {
    "colab": {
      "name": "LIF.ipynb",
      "version": "0.3.2",
      "provenance": [],
      "collapsed_sections": [],
      "include_colab_link": true
    },
    "kernelspec": {
      "name": "python3",
      "display_name": "Python 3"
    }
  },
  "cells": [
    {
      "cell_type": "markdown",
      "metadata": {
        "id": "view-in-github",
        "colab_type": "text"
      },
      "source": [
        "<a href=\"https://colab.research.google.com/github/adityas1998/LIF-Spectra-classification/blob/master/LIF.ipynb\" target=\"_parent\"><img src=\"https://colab.research.google.com/assets/colab-badge.svg\" alt=\"Open In Colab\"/></a>"
      ]
    },
    {
      "cell_type": "markdown",
      "metadata": {
        "id": "V69R-rNaLJoO",
        "colab_type": "text"
      },
      "source": [
        "**LIF Specta Analysis and classification**"
      ]
    },
    {
      "cell_type": "markdown",
      "metadata": {
        "id": "7hVSy5rgWS85",
        "colab_type": "text"
      },
      "source": [
        "## **Importing the required libraries**"
      ]
    },
    {
      "cell_type": "code",
      "metadata": {
        "id": "TSvGNog9YsbA",
        "colab_type": "code",
        "colab": {}
      },
      "source": [
        "import os\n",
        "import pandas as pd\n",
        "import matplotlib.pyplot as plt\n",
        "import numpy as np\n",
        "from sklearn.preprocessing import normalize\n",
        "import tensorflow as tf\n",
        "import torch\n",
        "from torch import nn\n",
        "from torch import optim\n",
        "import torch.nn.functional as F\n",
        "from torchvision import datasets, transforms, models"
      ],
      "execution_count": 0,
      "outputs": []
    },
    {
      "cell_type": "markdown",
      "metadata": {
        "id": "qUDJF1MjWimx",
        "colab_type": "text"
      },
      "source": [
        "## **Preparing the DataFrames**"
      ]
    },
    {
      "cell_type": "code",
      "metadata": {
        "id": "v3vXl-cxnc_C",
        "colab_type": "code",
        "colab": {}
      },
      "source": [
        "#Getting links to all file paths\n",
        "def datasets():\n",
        "    path = os.curdir\n",
        "    files = []\n",
        "    # r=root, d=directories, f = files\n",
        "    for r, d, f in os.walk(path):\n",
        "        for file in f:\n",
        "            if '.txt' in file:\n",
        "                files.append(os.path.join(r, file))\n",
        "    return files"
      ],
      "execution_count": 0,
      "outputs": []
    },
    {
      "cell_type": "code",
      "metadata": {
        "id": "RQoARA2jmtcU",
        "colab_type": "code",
        "colab": {}
      },
      "source": [
        "#making dataframes out of all the given datasets for ease of access\n",
        "def gen_data_frame():\n",
        "    main_df=pd.DataFrame()\n",
        "    label_dict={}\n",
        "    frames=[]\n",
        "    files=datasets()\n",
        "    count=0\n",
        "    for i in files:\n",
        "        count+=1\n",
        "        file=open(i,'r')\n",
        "        filename=i.split(\"-\")[7]\n",
        "        data=file.read()\n",
        "        data_manipulation_step1=data.split(\"\\n\")\n",
        "        data_manipulation_step2=[i.split(\"\\t\") for i in data_manipulation_step1]\n",
        "        df=pd.DataFrame(data_manipulation_step2[0:len(data_manipulation_step2)-1],columns=['A','B','C','D','E','F','G','H'])\n",
        "        df['id']=count\n",
        "        frames.append(df)  \n",
        "        label_dict[count]=filename\n",
        "    main_df=pd.concat(frames)\n",
        "    return (main_df,frames,label_dict)"
      ],
      "execution_count": 0,
      "outputs": []
    },
    {
      "cell_type": "code",
      "metadata": {
        "id": "XPhTOac8mtez",
        "colab_type": "code",
        "outputId": "6c6af3af-7653-4154-ea35-eca316f1b5b0",
        "colab": {
          "base_uri": "https://localhost:8080/",
          "height": 134
        }
      },
      "source": [
        "#creating instances of the dataframe/s\n",
        "df,sub_dfs,lab=gen_data_frame()\n",
        "lab"
      ],
      "execution_count": 4,
      "outputs": [
        {
          "output_type": "execute_result",
          "data": {
            "text/plain": [
              "{1: 'MixWaterSugar',\n",
              " 2: 'Water',\n",
              " 3: 'Petrol50Diesel50',\n",
              " 4: 'Kerosene',\n",
              " 5: 'Urea',\n",
              " 6: 'Petrol25Diesel75',\n",
              " 7: 'Petrol'}"
            ]
          },
          "metadata": {
            "tags": []
          },
          "execution_count": 4
        }
      ]
    },
    {
      "cell_type": "code",
      "metadata": {
        "id": "asOEnaWInvR8",
        "colab_type": "code",
        "outputId": "c350caca-dccb-4a12-e7da-46e39682008b",
        "colab": {
          "base_uri": "https://localhost:8080/",
          "height": 195
        }
      },
      "source": [
        "# #checking sub frames\n",
        "df.head()"
      ],
      "execution_count": 14,
      "outputs": [
        {
          "output_type": "execute_result",
          "data": {
            "text/html": [
              "<div>\n",
              "<style scoped>\n",
              "    .dataframe tbody tr th:only-of-type {\n",
              "        vertical-align: middle;\n",
              "    }\n",
              "\n",
              "    .dataframe tbody tr th {\n",
              "        vertical-align: top;\n",
              "    }\n",
              "\n",
              "    .dataframe thead th {\n",
              "        text-align: right;\n",
              "    }\n",
              "</style>\n",
              "<table border=\"1\" class=\"dataframe\">\n",
              "  <thead>\n",
              "    <tr style=\"text-align: right;\">\n",
              "      <th></th>\n",
              "      <th>A</th>\n",
              "      <th>B</th>\n",
              "      <th>C</th>\n",
              "      <th>D</th>\n",
              "      <th>E</th>\n",
              "      <th>F</th>\n",
              "      <th>G</th>\n",
              "      <th>H</th>\n",
              "      <th>id</th>\n",
              "    </tr>\n",
              "  </thead>\n",
              "  <tbody>\n",
              "    <tr>\n",
              "      <th>0</th>\n",
              "      <td>248.998</td>\n",
              "      <td>0.000</td>\n",
              "      <td>0.000</td>\n",
              "      <td>1466.000</td>\n",
              "      <td>1464.000</td>\n",
              "      <td>1464.000</td>\n",
              "      <td>1457.000</td>\n",
              "      <td>1457.000</td>\n",
              "      <td>1</td>\n",
              "    </tr>\n",
              "    <tr>\n",
              "      <th>1</th>\n",
              "      <td>249.042</td>\n",
              "      <td>-0.000</td>\n",
              "      <td>-0.005</td>\n",
              "      <td>674.000</td>\n",
              "      <td>701.000</td>\n",
              "      <td>701.000</td>\n",
              "      <td>1457.000</td>\n",
              "      <td>1457.000</td>\n",
              "      <td>1</td>\n",
              "    </tr>\n",
              "    <tr>\n",
              "      <th>2</th>\n",
              "      <td>249.086</td>\n",
              "      <td>-0.000</td>\n",
              "      <td>-0.013</td>\n",
              "      <td>731.000</td>\n",
              "      <td>695.000</td>\n",
              "      <td>695.000</td>\n",
              "      <td>664.000</td>\n",
              "      <td>664.000</td>\n",
              "      <td>1</td>\n",
              "    </tr>\n",
              "    <tr>\n",
              "      <th>3</th>\n",
              "      <td>249.130</td>\n",
              "      <td>-0.000</td>\n",
              "      <td>-0.011</td>\n",
              "      <td>691.000</td>\n",
              "      <td>690.000</td>\n",
              "      <td>690.000</td>\n",
              "      <td>696.000</td>\n",
              "      <td>696.000</td>\n",
              "      <td>1</td>\n",
              "    </tr>\n",
              "    <tr>\n",
              "      <th>4</th>\n",
              "      <td>249.173</td>\n",
              "      <td>-0.001</td>\n",
              "      <td>0.005</td>\n",
              "      <td>1151.000</td>\n",
              "      <td>1137.000</td>\n",
              "      <td>1137.000</td>\n",
              "      <td>1140.000</td>\n",
              "      <td>1140.000</td>\n",
              "      <td>1</td>\n",
              "    </tr>\n",
              "  </tbody>\n",
              "</table>\n",
              "</div>"
            ],
            "text/plain": [
              "         A       B       C         D  ...         F         G         H id\n",
              "0  248.998   0.000   0.000  1466.000  ...  1464.000  1457.000  1457.000  1\n",
              "1  249.042  -0.000  -0.005   674.000  ...   701.000  1457.000  1457.000  1\n",
              "2  249.086  -0.000  -0.013   731.000  ...   695.000   664.000   664.000  1\n",
              "3  249.130  -0.000  -0.011   691.000  ...   690.000   696.000   696.000  1\n",
              "4  249.173  -0.001   0.005  1151.000  ...  1137.000  1140.000  1140.000  1\n",
              "\n",
              "[5 rows x 9 columns]"
            ]
          },
          "metadata": {
            "tags": []
          },
          "execution_count": 14
        }
      ]
    },
    {
      "cell_type": "markdown",
      "metadata": {
        "id": "n5aMZCZ8W2Uv",
        "colab_type": "text"
      },
      "source": [
        "## **Preprocessing(Normalizing) the data**"
      ]
    },
    {
      "cell_type": "code",
      "metadata": {
        "id": "45XVkjhccrSw",
        "colab_type": "code",
        "colab": {}
      },
      "source": [
        "#processing the data to make it suitable for using it as an input for the machine learning algorithm\n",
        "train=[]\n",
        "for df_ in sub_dfs:\n",
        "  feature=np.array(df_['C'])\n",
        "  train.append(feature)\n",
        "\n",
        "labels=np.array([1,2,3,4,5,6,7])\n"
      ],
      "execution_count": 0,
      "outputs": []
    },
    {
      "cell_type": "code",
      "metadata": {
        "id": "Z4gh1VLcdhgZ",
        "colab_type": "code",
        "colab": {}
      },
      "source": [
        "def custom_normalizer(test_input,flag=\"train\"):\n",
        "  test_input=np.array(list(map(float,test_input)))\n",
        "  test_input=test_input-test_input.mean()\n",
        "  test_input=test_input/test_input.max()\n",
        "  if flag==\"test\":\n",
        "    test_input=test_input.reshape(1,-1)\n",
        "  return test_input\n"
      ],
      "execution_count": 0,
      "outputs": []
    },
    {
      "cell_type": "code",
      "metadata": {
        "id": "RK0znuXTp6pp",
        "colab_type": "code",
        "colab": {}
      },
      "source": [
        "normalized_input=[]\n",
        "for train_input in train:\n",
        "  normalized=custom_normalizer(train_input)\n",
        "  normalized_input.append(np.array(normalized))"
      ],
      "execution_count": 0,
      "outputs": []
    },
    {
      "cell_type": "code",
      "metadata": {
        "id": "3k-iC-kCyM55",
        "colab_type": "code",
        "outputId": "9a6e1c7e-bcff-4bb3-80a8-ab44531c22c9",
        "colab": {
          "base_uri": "https://localhost:8080/",
          "height": 50
        }
      },
      "source": [
        "normalized_input[3]"
      ],
      "execution_count": 9,
      "outputs": [
        {
          "output_type": "execute_result",
          "data": {
            "text/plain": [
              "array([-0.35855583, -0.35855131, -0.35855008, ..., -0.35789128,\n",
              "       -0.3578576 , -0.35782351])"
            ]
          },
          "metadata": {
            "tags": []
          },
          "execution_count": 9
        }
      ]
    },
    {
      "cell_type": "markdown",
      "metadata": {
        "id": "38rgJXotXAGd",
        "colab_type": "text"
      },
      "source": [
        "## **LIF Plots**"
      ]
    },
    {
      "cell_type": "code",
      "metadata": {
        "id": "vTTofrSocNri",
        "colab_type": "code",
        "colab": {
          "base_uri": "https://localhost:8080/",
          "height": 286
        },
        "outputId": "2fa455c9-e335-4205-e5cc-9c5ef659b1ab"
      },
      "source": [
        "substance=[]\n",
        "for train_input in train:\n",
        "  sub=np.array(list(map(float,train_input)))\n",
        "  substance.append(np.array(sub))\n",
        "# print(substance)\n",
        "from matplotlib import style\n",
        "style.use('ggplot')\n",
        "x=np.array(list(map(float,sub_dfs[0]['A'])))\n",
        "plt.plot(x,substance[0],label=lab[1])\n",
        "plt.plot(x,substance[1],label=lab[2])\n",
        "plt.plot(x,substance[2],label=lab[3])\n",
        "plt.plot(x,substance[3],label=lab[4])\n",
        "plt.plot(x,substance[4],label=lab[5])\n",
        "plt.plot(x,substance[5],label=lab[6])\n",
        "plt.plot(x,substance[6],label=lab[7])\n",
        "plt.legend()"
      ],
      "execution_count": 10,
      "outputs": [
        {
          "output_type": "execute_result",
          "data": {
            "text/plain": [
              "<matplotlib.legend.Legend at 0x7fbd34e726a0>"
            ]
          },
          "metadata": {
            "tags": []
          },
          "execution_count": 10
        },
        {
          "output_type": "display_data",
          "data": {
            "image/png": "[encoded data removed]",
            "text/plain": [
              "<Figure size 432x288 with 1 Axes>"
            ]
          },
          "metadata": {
            "tags": []
          }
        }
      ]
    },
    {
      "cell_type": "code",
      "metadata": {
        "id": "oGZayg11KFS3",
        "colab_type": "code",
        "outputId": "927cbac2-edef-47af-e449-0c1e68087f6e",
        "colab": {
          "base_uri": "https://localhost:8080/",
          "height": 386
        }
      },
      "source": [
        "#Plotting all the spectrums \n",
        "style.use('ggplot')\n",
        "plt.plot(np.array(list(map(float,sub_dfs[0]['A']))),normalized_input[0],\n",
        "         np.array(list(map(float,sub_dfs[0]['A']))),normalized_input[1],\n",
        "         np.array(list(map(float,sub_dfs[0]['A']))),normalized_input[2],\n",
        "         np.array(list(map(float,sub_dfs[0]['A']))),normalized_input[3],\n",
        "         np.array(list(map(float,sub_dfs[0]['A']))),normalized_input[4],\n",
        "         np.array(list(map(float,sub_dfs[0]['A']))),normalized_input[5],\n",
        "         np.array(list(map(float,sub_dfs[0]['A']))),normalized_input[6])"
      ],
      "execution_count": 11,
      "outputs": [
        {
          "output_type": "execute_result",
          "data": {
            "text/plain": [
              "[<matplotlib.lines.Line2D at 0x7fbd322504a8>,\n",
              " <matplotlib.lines.Line2D at 0x7fbd32250630>,\n",
              " <matplotlib.lines.Line2D at 0x7fbd322509b0>,\n",
              " <matplotlib.lines.Line2D at 0x7fbd32250cf8>,\n",
              " <matplotlib.lines.Line2D at 0x7fbd3225a080>,\n",
              " <matplotlib.lines.Line2D at 0x7fbd3225a3c8>,\n",
              " <matplotlib.lines.Line2D at 0x7fbd3225a710>]"
            ]
          },
          "metadata": {
            "tags": []
          },
          "execution_count": 11
        },
        {
          "output_type": "display_data",
          "data": {
            "image/png": "[encoded data removed]",
            "text/plain": [
              "<Figure size 432x288 with 1 Axes>"
            ]
          },
          "metadata": {
            "tags": []
          }
        }
      ]
    },
    {
      "cell_type": "markdown",
      "metadata": {
        "id": "9okliPQAXFiR",
        "colab_type": "text"
      },
      "source": [
        "## **T1: SVM**"
      ]
    },
    {
      "cell_type": "code",
      "metadata": {
        "id": "Mbt45zc-NEsf",
        "colab_type": "code",
        "colab": {}
      },
      "source": [
        "#SVM classifier with one label\n",
        "from sklearn.svm import SVC\n",
        "\n",
        "labels_=labels.reshape(-1,1)\n",
        "model=SVC()\n",
        "\n",
        "\n",
        "model.fit(normalized_input,labels_)"
      ],
      "execution_count": 0,
      "outputs": []
    },
    {
      "cell_type": "code",
      "metadata": {
        "id": "ytUpPYUtVmze",
        "colab_type": "code",
        "outputId": "c8726952-da84-4174-fce9-daeae9bc6d0e",
        "colab": {
          "base_uri": "https://localhost:8080/",
          "height": 50
        }
      },
      "source": [
        "testcase=6\n",
        "test=sub_dfs[testcase-1]['B']\n",
        "test=custom_normalizer(test,\"test\")\n",
        "predicted_label=model.predict(test)\n",
        "print(\"Actual label:\",lab[testcase])\n",
        "print(\"Predicted label:\",lab[predicted_label.item()])"
      ],
      "execution_count": 13,
      "outputs": [
        {
          "output_type": "stream",
          "text": [
            "Actual label: Petrol25Diesel75\n",
            "Predicted label: Petrol25Diesel75\n"
          ],
          "name": "stdout"
        }
      ]
    }
  ]
}